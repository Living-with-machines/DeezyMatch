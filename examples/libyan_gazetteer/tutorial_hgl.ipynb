{
 "cells": [
  {
   "cell_type": "markdown",
   "metadata": {},
   "source": [
    "# Tutorial: HGL example"
   ]
  },
  {
   "cell_type": "code",
   "execution_count": 1,
   "metadata": {},
   "outputs": [],
   "source": [
    "import json\n",
    "import pandas as pd"
   ]
  },
  {
   "cell_type": "markdown",
   "metadata": {},
   "source": [
    "## Train a new model"
   ]
  },
  {
   "cell_type": "code",
   "execution_count": 2,
   "metadata": {
    "scrolled": false
   },
   "outputs": [
    {
     "name": "stdout",
     "output_type": "stream",
     "text": [
      "\u001b[92m2022-07-16 14:08:18\u001b[0m \u001b[95mMAC-ATI0828\u001b[0m \u001b[1m\u001b[90m[INFO]\u001b[0m \u001b[2;32mread input file: inputs/input_dfm.yaml\u001b[0m\n",
      "\u001b[92m2022-07-16 14:08:18\u001b[0m \u001b[95mMAC-ATI0828\u001b[0m \u001b[1m\u001b[90m[INFO]\u001b[0m \u001b[1;31mGPU was requested but not available.\u001b[0m\n",
      "\u001b[92m2022-07-16 14:08:18\u001b[0m \u001b[95mMAC-ATI0828\u001b[0m \u001b[1m\u001b[90m[INFO]\u001b[0m \u001b[1;32mpytorch will use: cpu\u001b[0m\n",
      "\u001b[92m2022-07-16 14:08:18\u001b[0m \u001b[95mMAC-ATI0828\u001b[0m \u001b[1m\u001b[90m[INFO]\u001b[0m \u001b[2;32mread CSV file: data/libyan_pairs.txt\u001b[0m\n",
      "\u001b[92m2022-07-16 14:08:19\u001b[0m \u001b[95mMAC-ATI0828\u001b[0m \u001b[1m\u001b[90m[INFO]\u001b[0m \u001b[1;32mnumber of labels, True: 69046 and False: 69046\u001b[0m\n",
      "\u001b[92m2022-07-16 14:08:19\u001b[0m \u001b[95mMAC-ATI0828\u001b[0m \u001b[1m\u001b[90m[INFO]\u001b[0m \u001b[2;32mSplitting the Dataset\u001b[0m\n",
      "\u001b[92m2022-07-16 14:08:19\u001b[0m \u001b[95mMAC-ATI0828\u001b[0m \u001b[1m\u001b[90m[INFO]\u001b[0m \u001b[2;32mfinish splitting the Dataset. User time: 0.07445096969604492\u001b[0m\n",
      "\u001b[92m2022-07-16 14:08:19\u001b[0m \u001b[95mMAC-ATI0828\u001b[0m \u001b[1m\u001b[90m[INFO]\u001b[0m \u001b[1;32msplits are as follow:\n",
      "train    96666\n",
      "test     20714\n",
      "val      20712\n",
      "Name: split, dtype: int64\u001b[0m\n",
      "\u001b[92m2022-07-16 14:08:19\u001b[0m \u001b[95mMAC-ATI0828\u001b[0m \u001b[1m\u001b[90m[INFO]\u001b[0m \u001b[2;32mstart creating a lookup table and convert characters to indices\u001b[0m\n",
      "\u001b[92m2022-07-16 14:08:19\u001b[0m \u001b[95mMAC-ATI0828\u001b[0m \u001b[1m\u001b[90m[INFO]\u001b[0m \u001b[2;32m-- create vocabulary\u001b[0m\n",
      "\u001b[92m2022-07-16 14:08:24\u001b[0m \u001b[95mMAC-ATI0828\u001b[0m \u001b[1m\u001b[90m[INFO]\u001b[0m \u001b[2;32m-- convert tokens to indices\u001b[0m\n",
      "\u001b[92m2022-07-16 14:08:24\u001b[0m \u001b[95mMAC-ATI0828\u001b[0m \u001b[1m\u001b[90m[INFO]\u001b[0m \u001b[2;32m-- create a lookup table for tokens\u001b[0m\n",
      "\u001b[92m2022-07-16 14:08:24\u001b[0m \u001b[95mMAC-ATI0828\u001b[0m \u001b[1m\u001b[90m[INFO]\u001b[0m \u001b[2;32m-- read list of characters from ./inputs/characters_v001.vocab\u001b[0m\n",
      "\u001b[92m2022-07-16 14:08:24\u001b[0m \u001b[95mMAC-ATI0828\u001b[0m \u001b[1m\u001b[90m[INFO]\u001b[0m \u001b[2;32m-- Length of vocabulary: 17803\u001b[0m\n"
     ]
    },
    {
     "name": "stderr",
     "output_type": "stream",
     "text": [
      "                                                                                \r"
     ]
    },
    {
     "name": "stdout",
     "output_type": "stream",
     "text": [
      "\n",
      "\n",
      "\n",
      "\u001b[92m2022-07-16 14:08:27\u001b[0m \u001b[95mMAC-ATI0828\u001b[0m \u001b[1m\u001b[90m[INFO]\u001b[0m \u001b[95m******************************\u001b[0m\n",
      "\u001b[92m2022-07-16 14:08:27\u001b[0m \u001b[95mMAC-ATI0828\u001b[0m \u001b[1m\u001b[90m[INFO]\u001b[0m \u001b[95m**** (Bi-directional) GRU ****\u001b[0m\n",
      "\u001b[92m2022-07-16 14:08:27\u001b[0m \u001b[95mMAC-ATI0828\u001b[0m \u001b[1m\u001b[90m[INFO]\u001b[0m \u001b[95m******************************\u001b[0m\n",
      "\u001b[92m2022-07-16 14:08:27\u001b[0m \u001b[95mMAC-ATI0828\u001b[0m \u001b[1m\u001b[90m[INFO]\u001b[0m \u001b[2;32mread inputs\u001b[0m\n",
      "\u001b[92m2022-07-16 14:08:27\u001b[0m \u001b[95mMAC-ATI0828\u001b[0m \u001b[1m\u001b[90m[INFO]\u001b[0m \u001b[2;32mcreate a two_parallel_rnns model\u001b[0m\n",
      "\u001b[92m2022-07-16 14:08:27\u001b[0m \u001b[95mMAC-ATI0828\u001b[0m \u001b[1m\u001b[90m[INFO]\u001b[0m \u001b[1;32mstart fitting parameters\u001b[0m\n",
      "\u001b[92m2022-07-16 14:08:27\u001b[0m \u001b[95mMAC-ATI0828\u001b[0m \u001b[1m\u001b[90m[INFO]\u001b[0m \u001b[2;32mNumber of batches: 378\u001b[0m\n",
      "\u001b[92m2022-07-16 14:08:27\u001b[0m \u001b[95mMAC-ATI0828\u001b[0m \u001b[1m\u001b[90m[INFO]\u001b[0m \u001b[2;32mNumber of epochs: 5\u001b[0m\n"
     ]
    },
    {
     "data": {
      "application/vnd.jupyter.widget-view+json": {
       "model_id": "8d885c70515a4b2f882c08b3f5650c7d",
       "version_major": 2,
       "version_minor": 0
      },
      "text/plain": [
       "  0%|          | 0/5 [00:00<?, ?it/s]"
      ]
     },
     "metadata": {},
     "output_type": "display_data"
    },
    {
     "data": {
      "application/vnd.jupyter.widget-view+json": {
       "model_id": "",
       "version_major": 2,
       "version_minor": 0
      },
      "text/plain": [
       "  0%|          | 0/378 [00:00<?, ?it/s]"
      ]
     },
     "metadata": {},
     "output_type": "display_data"
    },
    {
     "name": "stdout",
     "output_type": "stream",
     "text": [
      "\n",
      "\n",
      "\n",
      "====================\n",
      "Total number of params: 1242903\n",
      "\n",
      "two_parallel_rnns (\n",
      "  (emb): Embedding(17803, 60), weights=((17803, 60),), parameters=1068180\n",
      "  (rnn_1): GRU(60, 60, num_layers=2, dropout=0.1, bidirectional=True), weights=((180, 60), (180, 60), (180,), (180,), (180, 60), (180, 60), (180,), (180,), (180, 120), (180, 60), (180,), (180,), (180, 120), (180, 60), (180,), (180,)), parameters=109440\n",
      "  (attn_step1): Linear(in_features=120, out_features=60, bias=True), weights=((60, 120), (60,)), parameters=7260\n",
      "  (attn_step2): Linear(in_features=60, out_features=1, bias=True), weights=((1, 60), (1,)), parameters=61\n",
      "  (fc1): Linear(in_features=480, out_features=120, bias=True), weights=((120, 480), (120,)), parameters=57720\n",
      "  (fc2): Linear(in_features=120, out_features=2, bias=True), weights=((2, 120), (2,)), parameters=242\n",
      ")\n",
      "====================\n",
      "\n",
      "\n",
      "\u001b[92m2022-07-16 14:17:00\u001b[0m \u001b[95mMAC-ATI0828\u001b[0m \u001b[1m\u001b[90m[INFO]\u001b[0m \u001b[0;33m07/16/2022_14:17:00 -- Epoch: 1/5; Train; loss: 0.149; acc: 0.944; precision: 0.928, recall: 0.961, macrof1: 0.943, weightedf1: 0.943\u001b[0m\n"
     ]
    },
    {
     "data": {
      "application/vnd.jupyter.widget-view+json": {
       "model_id": "",
       "version_major": 2,
       "version_minor": 0
      },
      "text/plain": [
       "  0%|          | 0/81 [00:00<?, ?it/s]"
      ]
     },
     "metadata": {},
     "output_type": "display_data"
    },
    {
     "name": "stdout",
     "output_type": "stream",
     "text": [
      "\u001b[92m2022-07-16 14:17:14\u001b[0m \u001b[95mMAC-ATI0828\u001b[0m \u001b[1m\u001b[90m[INFO]\u001b[0m \u001b[1;31m07/16/2022_14:17:14 -- Epoch: 1/5; Valid; loss: 0.030; acc: 0.990; precision: 0.985, recall: 0.995, macrof1: 0.990, weightedf1: 0.990\u001b[0m\n",
      "\u001b[92m2022-07-16 14:17:14\u001b[0m \u001b[95mMAC-ATI0828\u001b[0m \u001b[1m\u001b[90m[INFO]\u001b[0m \u001b[1;32msaving the model\u001b[0m\n"
     ]
    },
    {
     "data": {
      "application/vnd.jupyter.widget-view+json": {
       "model_id": "",
       "version_major": 2,
       "version_minor": 0
      },
      "text/plain": [
       "  0%|          | 0/378 [00:00<?, ?it/s]"
      ]
     },
     "metadata": {},
     "output_type": "display_data"
    },
    {
     "name": "stdout",
     "output_type": "stream",
     "text": [
      "\u001b[92m2022-07-16 14:25:53\u001b[0m \u001b[95mMAC-ATI0828\u001b[0m \u001b[1m\u001b[90m[INFO]\u001b[0m \u001b[0;33m07/16/2022_14:25:53 -- Epoch: 2/5; Train; loss: 0.036; acc: 0.988; precision: 0.988, recall: 0.989, macrof1: 0.988, weightedf1: 0.988\u001b[0m\n"
     ]
    },
    {
     "data": {
      "application/vnd.jupyter.widget-view+json": {
       "model_id": "",
       "version_major": 2,
       "version_minor": 0
      },
      "text/plain": [
       "  0%|          | 0/81 [00:00<?, ?it/s]"
      ]
     },
     "metadata": {},
     "output_type": "display_data"
    },
    {
     "name": "stdout",
     "output_type": "stream",
     "text": [
      "\u001b[92m2022-07-16 14:26:07\u001b[0m \u001b[95mMAC-ATI0828\u001b[0m \u001b[1m\u001b[90m[INFO]\u001b[0m \u001b[1;31m07/16/2022_14:26:07 -- Epoch: 2/5; Valid; loss: 0.025; acc: 0.992; precision: 0.992, recall: 0.992, macrof1: 0.992, weightedf1: 0.992\u001b[0m\n",
      "\u001b[92m2022-07-16 14:26:07\u001b[0m \u001b[95mMAC-ATI0828\u001b[0m \u001b[1m\u001b[90m[INFO]\u001b[0m \u001b[1;32msaving the model\u001b[0m\n"
     ]
    },
    {
     "data": {
      "application/vnd.jupyter.widget-view+json": {
       "model_id": "",
       "version_major": 2,
       "version_minor": 0
      },
      "text/plain": [
       "  0%|          | 0/378 [00:00<?, ?it/s]"
      ]
     },
     "metadata": {},
     "output_type": "display_data"
    },
    {
     "name": "stdout",
     "output_type": "stream",
     "text": [
      "\u001b[92m2022-07-16 14:34:32\u001b[0m \u001b[95mMAC-ATI0828\u001b[0m \u001b[1m\u001b[90m[INFO]\u001b[0m \u001b[0;33m07/16/2022_14:34:32 -- Epoch: 3/5; Train; loss: 0.017; acc: 0.995; precision: 0.994, recall: 0.995, macrof1: 0.995, weightedf1: 0.995\u001b[0m\n"
     ]
    },
    {
     "data": {
      "application/vnd.jupyter.widget-view+json": {
       "model_id": "",
       "version_major": 2,
       "version_minor": 0
      },
      "text/plain": [
       "  0%|          | 0/81 [00:00<?, ?it/s]"
      ]
     },
     "metadata": {},
     "output_type": "display_data"
    },
    {
     "name": "stdout",
     "output_type": "stream",
     "text": [
      "\u001b[92m2022-07-16 14:34:46\u001b[0m \u001b[95mMAC-ATI0828\u001b[0m \u001b[1m\u001b[90m[INFO]\u001b[0m \u001b[1;31m07/16/2022_14:34:46 -- Epoch: 3/5; Valid; loss: 0.020; acc: 0.994; precision: 0.991, recall: 0.997, macrof1: 0.994, weightedf1: 0.994\u001b[0m\n",
      "\u001b[92m2022-07-16 14:34:46\u001b[0m \u001b[95mMAC-ATI0828\u001b[0m \u001b[1m\u001b[90m[INFO]\u001b[0m \u001b[1;32msaving the model\u001b[0m\n"
     ]
    },
    {
     "data": {
      "application/vnd.jupyter.widget-view+json": {
       "model_id": "",
       "version_major": 2,
       "version_minor": 0
      },
      "text/plain": [
       "  0%|          | 0/378 [00:00<?, ?it/s]"
      ]
     },
     "metadata": {},
     "output_type": "display_data"
    },
    {
     "name": "stdout",
     "output_type": "stream",
     "text": [
      "\u001b[92m2022-07-16 14:43:12\u001b[0m \u001b[95mMAC-ATI0828\u001b[0m \u001b[1m\u001b[90m[INFO]\u001b[0m \u001b[0;33m07/16/2022_14:43:12 -- Epoch: 4/5; Train; loss: 0.019; acc: 0.994; precision: 0.993, recall: 0.995, macrof1: 0.994, weightedf1: 0.994\u001b[0m\n"
     ]
    },
    {
     "data": {
      "application/vnd.jupyter.widget-view+json": {
       "model_id": "",
       "version_major": 2,
       "version_minor": 0
      },
      "text/plain": [
       "  0%|          | 0/81 [00:00<?, ?it/s]"
      ]
     },
     "metadata": {},
     "output_type": "display_data"
    },
    {
     "name": "stdout",
     "output_type": "stream",
     "text": [
      "\u001b[92m2022-07-16 14:43:26\u001b[0m \u001b[95mMAC-ATI0828\u001b[0m \u001b[1m\u001b[90m[INFO]\u001b[0m \u001b[1;31m07/16/2022_14:43:26 -- Epoch: 4/5; Valid; loss: 0.012; acc: 0.996; precision: 0.996, recall: 0.997, macrof1: 0.996, weightedf1: 0.996\u001b[0m\n",
      "\u001b[92m2022-07-16 14:43:26\u001b[0m \u001b[95mMAC-ATI0828\u001b[0m \u001b[1m\u001b[90m[INFO]\u001b[0m \u001b[1;32msaving the model\u001b[0m\n"
     ]
    },
    {
     "data": {
      "application/vnd.jupyter.widget-view+json": {
       "model_id": "",
       "version_major": 2,
       "version_minor": 0
      },
      "text/plain": [
       "  0%|          | 0/378 [00:00<?, ?it/s]"
      ]
     },
     "metadata": {},
     "output_type": "display_data"
    },
    {
     "name": "stdout",
     "output_type": "stream",
     "text": [
      "\u001b[92m2022-07-16 14:51:49\u001b[0m \u001b[95mMAC-ATI0828\u001b[0m \u001b[1m\u001b[90m[INFO]\u001b[0m \u001b[0;33m07/16/2022_14:51:49 -- Epoch: 5/5; Train; loss: 0.006; acc: 0.998; precision: 0.998, recall: 0.998, macrof1: 0.998, weightedf1: 0.998\u001b[0m\n"
     ]
    },
    {
     "data": {
      "application/vnd.jupyter.widget-view+json": {
       "model_id": "",
       "version_major": 2,
       "version_minor": 0
      },
      "text/plain": [
       "  0%|          | 0/81 [00:00<?, ?it/s]"
      ]
     },
     "metadata": {},
     "output_type": "display_data"
    },
    {
     "name": "stdout",
     "output_type": "stream",
     "text": [
      "\u001b[92m2022-07-16 14:52:03\u001b[0m \u001b[95mMAC-ATI0828\u001b[0m \u001b[1m\u001b[90m[INFO]\u001b[0m \u001b[1;31m07/16/2022_14:52:03 -- Epoch: 5/5; Valid; loss: 0.034; acc: 0.990; precision: 0.980, recall: 1.000, macrof1: 0.990, weightedf1: 0.990\u001b[0m\n",
      "\u001b[92m2022-07-16 14:52:03\u001b[0m \u001b[95mMAC-ATI0828\u001b[0m \u001b[1m\u001b[90m[INFO]\u001b[0m \u001b[1;32msaving the model\u001b[0m\n",
      "\u001b[92m2022-07-16 14:52:03\u001b[0m \u001b[95mMAC-ATI0828\u001b[0m \u001b[1m\u001b[90m[INFO]\u001b[0m \u001b[1;32msaving the model with least valid loss (checkpoint: 4) at ./models/hgl001/hgl001.model\u001b[0m\n",
      "\n",
      "\n",
      "\n",
      "====================\n",
      "User time: 2615.7837\n",
      "====================\n"
     ]
    }
   ],
   "source": [
    "from DeezyMatch import train as dm_train\n",
    "\n",
    "# train a new model\n",
    "dm_train(input_file_path=\"inputs/input_dfm.yaml\", \n",
    "         dataset_path=\"data/libyan_pairs.txt\", \n",
    "         model_name=\"hgl001\")"
   ]
  },
  {
   "cell_type": "code",
   "execution_count": 3,
   "metadata": {},
   "outputs": [
    {
     "name": "stdout",
     "output_type": "stream",
     "text": [
      "output_name: log_hgl001\n",
      "Time: 2089s\n",
      "output_name: log_hgl001\n",
      "Time / epoch: 522.250s\n",
      "=============\n",
      "Epoch: 4, Loss: 0.012\n",
      "Epoch: 4, macro F1: 0.996\n",
      "Epoch: 4, Acc: 0.996\n",
      "Epoch: 4, Prec/Recall: 0.996/0.997\n"
     ]
    },
    {
     "data": {
      "image/png": "[encoded data removed]",
      "text/plain": [
       "<Figure size 1080x864 with 4 Axes>"
      ]
     },
     "metadata": {
      "needs_background": "light"
     },
     "output_type": "display_data"
    }
   ],
   "source": [
    "from DeezyMatch import plot_log\n",
    "\n",
    "# plot log file\n",
    "plot_log(path2log=\"./models/hgl001/log.txt\", \n",
    "         output_name=\"log_hgl001\")"
   ]
  },
  {
   "cell_type": "markdown",
   "metadata": {},
   "source": [
    "## Model inference"
   ]
  },
  {
   "cell_type": "code",
   "execution_count": 4,
   "metadata": {
    "scrolled": true
   },
   "outputs": [
    {
     "name": "stdout",
     "output_type": "stream",
     "text": [
      "\u001b[92m2022-07-16 14:52:05\u001b[0m \u001b[95mMAC-ATI0828\u001b[0m \u001b[1m\u001b[90m[INFO]\u001b[0m \u001b[2;32mread input file: inputs/input_dfm.yaml\u001b[0m\n",
      "\u001b[92m2022-07-16 14:52:05\u001b[0m \u001b[95mMAC-ATI0828\u001b[0m \u001b[1m\u001b[90m[INFO]\u001b[0m \u001b[1;31mGPU was requested but not available.\u001b[0m\n",
      "\u001b[92m2022-07-16 14:52:05\u001b[0m \u001b[95mMAC-ATI0828\u001b[0m \u001b[1m\u001b[90m[INFO]\u001b[0m \u001b[1;32mpytorch will use: cpu\u001b[0m\n",
      "\u001b[92m2022-07-16 14:52:05\u001b[0m \u001b[95mMAC-ATI0828\u001b[0m \u001b[1m\u001b[90m[INFO]\u001b[0m \u001b[2;32mread CSV file: data/libyan_pairs.txt\u001b[0m\n",
      "\u001b[92m2022-07-16 14:52:05\u001b[0m \u001b[95mMAC-ATI0828\u001b[0m \u001b[1m\u001b[90m[INFO]\u001b[0m \u001b[1;32mnumber of labels, True: 69046 and False: 69046\u001b[0m\n",
      "\u001b[92m2022-07-16 14:52:10\u001b[0m \u001b[95mMAC-ATI0828\u001b[0m \u001b[1m\u001b[90m[INFO]\u001b[0m \u001b[2;32mskipping 0 lines\u001b[0m\n"
     ]
    },
    {
     "name": "stderr",
     "output_type": "stream",
     "text": [
      "                                                                                \r"
     ]
    },
    {
     "data": {
      "application/vnd.jupyter.widget-view+json": {
       "model_id": "",
       "version_major": 2,
       "version_minor": 0
      },
      "text/plain": [
       "  0%|          | 0/540 [00:00<?, ?it/s]"
      ]
     },
     "metadata": {},
     "output_type": "display_data"
    },
    {
     "name": "stdout",
     "output_type": "stream",
     "text": [
      "\u001b[92m2022-07-16 14:53:44\u001b[0m \u001b[95mMAC-ATI0828\u001b[0m \u001b[1m\u001b[90m[INFO]\u001b[0m \u001b[1;31m07/16/2022_14:53:44 -- Epoch: 0/0; Test; loss: 0.004; acc: 0.999; precision: 0.998, recall: 1.000, macrof1: 0.999, weightedf1: 0.999\u001b[0m\n",
      "--- 99.13402891159058 seconds ---\n"
     ]
    }
   ],
   "source": [
    "from DeezyMatch import inference as dm_inference\n",
    "\n",
    "# model inference using a model stored at pretrained_model_path and pretrained_vocab_path \n",
    "dm_inference(input_file_path=\"inputs/input_dfm.yaml\",\n",
    "             dataset_path=\"data/libyan_pairs.txt\", \n",
    "             pretrained_model_path=\"./models/hgl001/hgl001.model\", \n",
    "             pretrained_vocab_path=\"./models/hgl001/hgl001.vocab\")"
   ]
  },
  {
   "cell_type": "markdown",
   "metadata": {},
   "source": [
    "## Generate query vectors"
   ]
  },
  {
   "cell_type": "code",
   "execution_count": 5,
   "metadata": {},
   "outputs": [
    {
     "name": "stdout",
     "output_type": "stream",
     "text": [
      "\u001b[92m2022-07-16 14:53:44\u001b[0m \u001b[95mMAC-ATI0828\u001b[0m \u001b[1m\u001b[90m[INFO]\u001b[0m \u001b[2;32mread input file: inputs/input_dfm.yaml\u001b[0m\n",
      "\u001b[92m2022-07-16 14:53:44\u001b[0m \u001b[95mMAC-ATI0828\u001b[0m \u001b[1m\u001b[90m[INFO]\u001b[0m \u001b[1;31mGPU was requested but not available.\u001b[0m\n",
      "\u001b[92m2022-07-16 14:53:44\u001b[0m \u001b[95mMAC-ATI0828\u001b[0m \u001b[1m\u001b[90m[INFO]\u001b[0m \u001b[1;32mpytorch will use: cpu\u001b[0m\n",
      "\u001b[92m2022-07-16 14:53:44\u001b[0m \u001b[95mMAC-ATI0828\u001b[0m \u001b[1m\u001b[90m[INFO]\u001b[0m \u001b[2;32mread CSV file: data/queries.txt\u001b[0m\n",
      "\u001b[92m2022-07-16 14:53:44\u001b[0m \u001b[95mMAC-ATI0828\u001b[0m \u001b[1m\u001b[90m[INFO]\u001b[0m \u001b[1;32mnumber of labels, True: 1355 and False: 0\u001b[0m\n",
      "\u001b[92m2022-07-16 14:53:44\u001b[0m \u001b[95mMAC-ATI0828\u001b[0m \u001b[1m\u001b[90m[INFO]\u001b[0m \u001b[2;32mskipping 0 lines\u001b[0m\n"
     ]
    },
    {
     "name": "stderr",
     "output_type": "stream",
     "text": [
      "                                                                                "
     ]
    },
    {
     "name": "stdout",
     "output_type": "stream",
     "text": [
      "\u001b[92m2022-07-16 14:53:44\u001b[0m \u001b[95mMAC-ATI0828\u001b[0m \u001b[1m\u001b[90m[INFO]\u001b[0m \u001b[2;32msave test-data-class: /Users/mcollardanuy/Documents/githubCode/DeezyMatch/examples/libyan_gazetteer/queries/test/dataframe.df\u001b[0m\n"
     ]
    },
    {
     "name": "stderr",
     "output_type": "stream",
     "text": [
      "\r"
     ]
    },
    {
     "data": {
      "application/vnd.jupyter.widget-view+json": {
       "model_id": "",
       "version_major": 2,
       "version_minor": 0
      },
      "text/plain": [
       "  0%|          | 0/6 [00:00<?, ?it/s]"
      ]
     },
     "metadata": {},
     "output_type": "display_data"
    },
    {
     "name": "stdout",
     "output_type": "stream",
     "text": [
      "--- 0.601017951965332 seconds ---\n"
     ]
    }
   ],
   "source": [
    "from DeezyMatch import inference as dm_inference\n",
    "\n",
    "# generate vectors for queries (specified in dataset_path) \n",
    "# using a model stored at pretrained_model_path and pretrained_vocab_path \n",
    "dm_inference(input_file_path=\"inputs/input_dfm.yaml\",\n",
    "            dataset_path=\"data/queries.txt\", \n",
    "            pretrained_model_path=\"./models/hgl001/hgl001.model\", \n",
    "            pretrained_vocab_path=\"./models/hgl001/hgl001.vocab\",\n",
    "            inference_mode=\"vect\",\n",
    "            scenario=\"queries/test\")"
   ]
  },
  {
   "cell_type": "markdown",
   "metadata": {},
   "source": [
    "## Generate candidate vectors"
   ]
  },
  {
   "cell_type": "code",
   "execution_count": 6,
   "metadata": {},
   "outputs": [
    {
     "name": "stdout",
     "output_type": "stream",
     "text": [
      "\u001b[92m2022-07-16 14:53:44\u001b[0m \u001b[95mMAC-ATI0828\u001b[0m \u001b[1m\u001b[90m[INFO]\u001b[0m \u001b[2;32mread input file: inputs/input_dfm.yaml\u001b[0m\n",
      "\u001b[92m2022-07-16 14:53:44\u001b[0m \u001b[95mMAC-ATI0828\u001b[0m \u001b[1m\u001b[90m[INFO]\u001b[0m \u001b[1;31mGPU was requested but not available.\u001b[0m\n",
      "\u001b[92m2022-07-16 14:53:44\u001b[0m \u001b[95mMAC-ATI0828\u001b[0m \u001b[1m\u001b[90m[INFO]\u001b[0m \u001b[1;32mpytorch will use: cpu\u001b[0m\n",
      "\u001b[92m2022-07-16 14:53:44\u001b[0m \u001b[95mMAC-ATI0828\u001b[0m \u001b[1m\u001b[90m[INFO]\u001b[0m \u001b[2;32mread CSV file: data/candidates.txt\u001b[0m\n",
      "\u001b[92m2022-07-16 14:53:45\u001b[0m \u001b[95mMAC-ATI0828\u001b[0m \u001b[1m\u001b[90m[INFO]\u001b[0m \u001b[1;32mnumber of labels, True: 33231 and False: 0\u001b[0m\n",
      "\u001b[92m2022-07-16 14:53:46\u001b[0m \u001b[95mMAC-ATI0828\u001b[0m \u001b[1m\u001b[90m[INFO]\u001b[0m \u001b[2;32mskipping 0 lines\u001b[0m\n"
     ]
    },
    {
     "name": "stderr",
     "output_type": "stream",
     "text": [
      "                                                                                \r"
     ]
    },
    {
     "name": "stdout",
     "output_type": "stream",
     "text": [
      "\u001b[92m2022-07-16 14:53:46\u001b[0m \u001b[95mMAC-ATI0828\u001b[0m \u001b[1m\u001b[90m[INFO]\u001b[0m \u001b[2;32msave test-data-class: /Users/mcollardanuy/Documents/githubCode/DeezyMatch/examples/libyan_gazetteer/candidates/test/dataframe.df\u001b[0m\n"
     ]
    },
    {
     "data": {
      "application/vnd.jupyter.widget-view+json": {
       "model_id": "",
       "version_major": 2,
       "version_minor": 0
      },
      "text/plain": [
       "  0%|          | 0/130 [00:00<?, ?it/s]"
      ]
     },
     "metadata": {},
     "output_type": "display_data"
    },
    {
     "name": "stdout",
     "output_type": "stream",
     "text": [
      "--- 15.007009744644165 seconds ---\n"
     ]
    }
   ],
   "source": [
    "from DeezyMatch import inference as dm_inference\n",
    "\n",
    "# generate vectors for candidates (specified in dataset_path) \n",
    "# using a model stored at pretrained_model_path and pretrained_vocab_path \n",
    "dm_inference(input_file_path=\"inputs/input_dfm.yaml\",\n",
    "             dataset_path=\"data/candidates.txt\", \n",
    "             pretrained_model_path=\"./models/hgl001/hgl001.model\", \n",
    "             pretrained_vocab_path=\"./models/hgl001/hgl001.vocab\",\n",
    "             inference_mode=\"vect\",\n",
    "             scenario=\"candidates/test\")"
   ]
  },
  {
   "cell_type": "markdown",
   "metadata": {},
   "source": [
    "## Assembling queries vector representations"
   ]
  },
  {
   "cell_type": "code",
   "execution_count": 7,
   "metadata": {
    "scrolled": true
   },
   "outputs": [
    {
     "name": "stdout",
     "output_type": "stream",
     "text": [
      "\u001b[92m2022-07-16 14:53:59\u001b[0m \u001b[95mMAC-ATI0828\u001b[0m \u001b[1m\u001b[90m[INFO]\u001b[0m \u001b[2;32mread input file: queries/test/input_dfm.yaml\u001b[0m\n",
      "\u001b[92m2022-07-16 14:53:59\u001b[0m \u001b[95mMAC-ATI0828\u001b[0m \u001b[1m\u001b[90m[INFO]\u001b[0m \u001b[1;31mGPU was requested but not available.\u001b[0m\n",
      "\u001b[92m2022-07-16 14:53:59\u001b[0m \u001b[95mMAC-ATI0828\u001b[0m \u001b[1m\u001b[90m[INFO]\u001b[0m \u001b[1;32mpytorch will use: cpu\u001b[0m\n",
      "\n",
      "\n",
      "-- Combine vectors\n",
      "Reading vectors from queries/test/embeddings/rnn_fwd*\n",
      "0000000 queries/test/embeddings/rnn_fwd_0\n",
      "\n",
      "\n",
      "-- Combine IDs\n",
      "\n",
      "0000000 queries/test/embeddings/rnn_indxs_0\n",
      "\n",
      "\n",
      "-- Combine vectors\n",
      "Reading vectors from queries/test/embeddings/rnn_bwd*\n",
      "0000000 queries/test/embeddings/rnn_bwd_0\n",
      "\n",
      "\n",
      "-- Combine IDs\n",
      "\n",
      "0000000 queries/test/embeddings/rnn_indxs_0\n",
      "--- 2741.609536886215 seconds ---\n"
     ]
    }
   ],
   "source": [
    "from DeezyMatch import combine_vecs\n",
    "\n",
    "# combine vectors stored in queries/test and save them in combined/queries_test\n",
    "combine_vecs(rnn_passes=['fwd', 'bwd'], \n",
    "             input_scenario='queries/test', \n",
    "             output_scenario='combined/queries_test', \n",
    "             print_every=10)"
   ]
  },
  {
   "cell_type": "markdown",
   "metadata": {},
   "source": [
    "## Assembling candidates vector representations"
   ]
  },
  {
   "cell_type": "code",
   "execution_count": 8,
   "metadata": {
    "scrolled": true
   },
   "outputs": [
    {
     "name": "stdout",
     "output_type": "stream",
     "text": [
      "\u001b[92m2022-07-16 14:54:00\u001b[0m \u001b[95mMAC-ATI0828\u001b[0m \u001b[1m\u001b[90m[INFO]\u001b[0m \u001b[2;32mread input file: candidates/test/input_dfm.yaml\u001b[0m\n",
      "\u001b[92m2022-07-16 14:54:00\u001b[0m \u001b[95mMAC-ATI0828\u001b[0m \u001b[1m\u001b[90m[INFO]\u001b[0m \u001b[1;31mGPU was requested but not available.\u001b[0m\n",
      "\u001b[92m2022-07-16 14:54:00\u001b[0m \u001b[95mMAC-ATI0828\u001b[0m \u001b[1m\u001b[90m[INFO]\u001b[0m \u001b[1;32mpytorch will use: cpu\u001b[0m\n",
      "\n",
      "\n",
      "-- Combine vectors\n",
      "Reading vectors from candidates/test/embeddings/rnn_fwd*\n",
      "0000000 candidates/test/embeddings/rnn_fwd_0\n",
      "0000010 candidates/test/embeddings/rnn_fwd_10\n",
      "0000020 candidates/test/embeddings/rnn_fwd_20\n",
      "0000030 candidates/test/embeddings/rnn_fwd_30\n",
      "0000040 candidates/test/embeddings/rnn_fwd_40\n",
      "0000050 candidates/test/embeddings/rnn_fwd_50\n",
      "0000060 candidates/test/embeddings/rnn_fwd_60\n",
      "0000070 candidates/test/embeddings/rnn_fwd_70\n",
      "0000080 candidates/test/embeddings/rnn_fwd_80\n",
      "0000090 candidates/test/embeddings/rnn_fwd_90\n",
      "0000100 candidates/test/embeddings/rnn_fwd_100\n",
      "0000110 candidates/test/embeddings/rnn_fwd_110\n",
      "0000120 candidates/test/embeddings/rnn_fwd_120\n",
      "\n",
      "\n",
      "-- Combine IDs\n",
      "\n",
      "0000000 candidates/test/embeddings/rnn_indxs_0\n",
      "0000010 candidates/test/embeddings/rnn_indxs_10\n",
      "0000020 candidates/test/embeddings/rnn_indxs_20\n",
      "0000030 candidates/test/embeddings/rnn_indxs_30\n",
      "0000040 candidates/test/embeddings/rnn_indxs_40\n",
      "0000050 candidates/test/embeddings/rnn_indxs_50\n",
      "0000060 candidates/test/embeddings/rnn_indxs_60\n",
      "0000070 candidates/test/embeddings/rnn_indxs_70\n",
      "0000080 candidates/test/embeddings/rnn_indxs_80\n",
      "0000090 candidates/test/embeddings/rnn_indxs_90\n",
      "0000100 candidates/test/embeddings/rnn_indxs_100\n",
      "0000110 candidates/test/embeddings/rnn_indxs_110\n",
      "0000120 candidates/test/embeddings/rnn_indxs_120\n",
      "\n",
      "\n",
      "-- Combine vectors\n",
      "Reading vectors from candidates/test/embeddings/rnn_bwd*\n",
      "0000000 candidates/test/embeddings/rnn_bwd_0\n",
      "0000010 candidates/test/embeddings/rnn_bwd_10\n",
      "0000020 candidates/test/embeddings/rnn_bwd_20\n",
      "0000030 candidates/test/embeddings/rnn_bwd_30\n",
      "0000040 candidates/test/embeddings/rnn_bwd_40\n",
      "0000050 candidates/test/embeddings/rnn_bwd_50\n",
      "0000060 candidates/test/embeddings/rnn_bwd_60\n",
      "0000070 candidates/test/embeddings/rnn_bwd_70\n",
      "0000080 candidates/test/embeddings/rnn_bwd_80\n",
      "0000090 candidates/test/embeddings/rnn_bwd_90\n",
      "0000100 candidates/test/embeddings/rnn_bwd_100\n",
      "0000110 candidates/test/embeddings/rnn_bwd_110\n",
      "0000120 candidates/test/embeddings/rnn_bwd_120\n",
      "\n",
      "\n",
      "-- Combine IDs\n",
      "\n",
      "0000000 candidates/test/embeddings/rnn_indxs_0\n",
      "0000010 candidates/test/embeddings/rnn_indxs_10\n",
      "0000020 candidates/test/embeddings/rnn_indxs_20\n",
      "0000030 candidates/test/embeddings/rnn_indxs_30\n",
      "0000040 candidates/test/embeddings/rnn_indxs_40\n",
      "0000050 candidates/test/embeddings/rnn_indxs_50\n",
      "0000060 candidates/test/embeddings/rnn_indxs_60\n",
      "0000070 candidates/test/embeddings/rnn_indxs_70\n",
      "0000080 candidates/test/embeddings/rnn_indxs_80\n",
      "0000090 candidates/test/embeddings/rnn_indxs_90\n",
      "0000100 candidates/test/embeddings/rnn_indxs_100\n",
      "0000110 candidates/test/embeddings/rnn_indxs_110\n",
      "0000120 candidates/test/embeddings/rnn_indxs_120\n",
      "--- 2744.174198627472 seconds ---\n"
     ]
    }
   ],
   "source": [
    "from DeezyMatch import combine_vecs\n",
    "\n",
    "# combine vectors stored in candidates/test and save them in combined/candidates_test\n",
    "combine_vecs(rnn_passes=['fwd', 'bwd'], \n",
    "             input_scenario='candidates/test', \n",
    "             output_scenario='combined/candidates_test', \n",
    "             print_every=10)"
   ]
  },
  {
   "cell_type": "markdown",
   "metadata": {},
   "source": [
    "## Candidate Ranker"
   ]
  },
  {
   "cell_type": "code",
   "execution_count": 9,
   "metadata": {
    "scrolled": true
   },
   "outputs": [],
   "source": [
    "from DeezyMatch import candidate_ranker\n",
    "\n",
    "# Select candidates based on L2-norm distance (aka faiss distance):\n",
    "# find candidates from candidate_scenario \n",
    "# for queries specified in query_scenario\n",
    "candidates_pd = \\\n",
    "    candidate_ranker(query_scenario=\"./combined/queries_test\",\n",
    "                     candidate_scenario=\"./combined/candidates_test\", \n",
    "                     ranking_metric=\"faiss\", \n",
    "                     selection_threshold=15., \n",
    "                     num_candidates=3, \n",
    "                     search_size=3, \n",
    "                     verbose=False,\n",
    "                     use_predict=False,\n",
    "                     output_path=\"ranker_results/test_candidates_deezymatch\", \n",
    "                     pretrained_model_path=\"./models/hgl001/hgl001.model\", \n",
    "                     pretrained_vocab_path=\"./models/hgl001/hgl001.vocab\", \n",
    "    )"
   ]
  },
  {
   "cell_type": "code",
   "execution_count": 10,
   "metadata": {
    "scrolled": true
   },
   "outputs": [
    {
     "data": {
      "text/html": [
       "<div>\n",
       "<style scoped>\n",
       "    .dataframe tbody tr th:only-of-type {\n",
       "        vertical-align: middle;\n",
       "    }\n",
       "\n",
       "    .dataframe tbody tr th {\n",
       "        vertical-align: top;\n",
       "    }\n",
       "\n",
       "    .dataframe thead th {\n",
       "        text-align: right;\n",
       "    }\n",
       "</style>\n",
       "<table border=\"1\" class=\"dataframe\">\n",
       "  <thead>\n",
       "    <tr style=\"text-align: right;\">\n",
       "      <th></th>\n",
       "      <th>query</th>\n",
       "      <th>pred_score</th>\n",
       "      <th>1-pred_score</th>\n",
       "      <th>faiss_distance</th>\n",
       "      <th>cosine_dist</th>\n",
       "      <th>candidate_original_ids</th>\n",
       "      <th>query_original_id</th>\n",
       "      <th>num_all_searches</th>\n",
       "    </tr>\n",
       "    <tr>\n",
       "      <th>id</th>\n",
       "      <th></th>\n",
       "      <th></th>\n",
       "      <th></th>\n",
       "      <th></th>\n",
       "      <th></th>\n",
       "      <th></th>\n",
       "      <th></th>\n",
       "      <th></th>\n",
       "    </tr>\n",
       "  </thead>\n",
       "  <tbody>\n",
       "    <tr>\n",
       "      <th>0</th>\n",
       "      <td>‘Ayn as Salmānī</td>\n",
       "      <td>{}</td>\n",
       "      <td>{}</td>\n",
       "      <td>{'‘Ayn as Salmānī': 0.0}</td>\n",
       "      <td>{'‘Ayn as Salmānī': -0.0}</td>\n",
       "      <td>{'‘Ayn as Salmānī': 4804}</td>\n",
       "      <td>0</td>\n",
       "      <td>3</td>\n",
       "    </tr>\n",
       "    <tr>\n",
       "      <th>1</th>\n",
       "      <td>Abu Njaym</td>\n",
       "      <td>{}</td>\n",
       "      <td>{}</td>\n",
       "      <td>{'Abu Na`im': 9.513, 'Abū Na‘īm': 11.4511}</td>\n",
       "      <td>{'Abu Na`im': 0.0599, 'Abū Na‘īm': 0.0727}</td>\n",
       "      <td>{'Abu Na`im': 30679, 'Abū Na‘īm': 17761}</td>\n",
       "      <td>1</td>\n",
       "      <td>3</td>\n",
       "    </tr>\n",
       "    <tr>\n",
       "      <th>2</th>\n",
       "      <td>Abyār Abū Sa‘dah</td>\n",
       "      <td>{}</td>\n",
       "      <td>{}</td>\n",
       "      <td>{'Abyār Abū Sa‘dah': 0.0, 'Abyar Abu Sa`dah': ...</td>\n",
       "      <td>{'Abyār Abū Sa‘dah': 0.0, 'Abyar Abu Sa`dah': ...</td>\n",
       "      <td>{'Abyār Abū Sa‘dah': 10557, 'Abyar Abu Sa`dah'...</td>\n",
       "      <td>2</td>\n",
       "      <td>3</td>\n",
       "    </tr>\n",
       "    <tr>\n",
       "      <th>3</th>\n",
       "      <td>Abyār Abū Zāhiyah</td>\n",
       "      <td>{}</td>\n",
       "      <td>{}</td>\n",
       "      <td>{'Abyār Abū Zāhiyah': 0.0, 'Abyar Abu Zahiyah'...</td>\n",
       "      <td>{'Abyār Abū Zāhiyah': -0.0, 'Abyar Abu Zahiyah...</td>\n",
       "      <td>{'Abyār Abū Zāhiyah': 27074, 'Abyar Abu Zahiya...</td>\n",
       "      <td>3</td>\n",
       "      <td>3</td>\n",
       "    </tr>\n",
       "    <tr>\n",
       "      <th>4</th>\n",
       "      <td>Abyār al Qindīl</td>\n",
       "      <td>{}</td>\n",
       "      <td>{}</td>\n",
       "      <td>{'Abyār al Qindīl': 0.0, 'Abyar al Qindil': 11...</td>\n",
       "      <td>{'Abyār al Qindīl': 0.0, 'Abyar al Qindil': 0....</td>\n",
       "      <td>{'Abyār al Qindīl': 6973, 'Abyar al Qindil': 7...</td>\n",
       "      <td>4</td>\n",
       "      <td>3</td>\n",
       "    </tr>\n",
       "    <tr>\n",
       "      <th>5</th>\n",
       "      <td>Abyār al ‘Usaylah</td>\n",
       "      <td>{}</td>\n",
       "      <td>{}</td>\n",
       "      <td>{'Abyār al ‘Usaylah': 0.0, 'Abyar al `Usaylah'...</td>\n",
       "      <td>{'Abyār al ‘Usaylah': 0.0, 'Abyar al `Usaylah'...</td>\n",
       "      <td>{'Abyār al ‘Usaylah': 15184, 'Abyar al `Usayla...</td>\n",
       "      <td>5</td>\n",
       "      <td>3</td>\n",
       "    </tr>\n",
       "    <tr>\n",
       "      <th>6</th>\n",
       "      <td>Abyār al ‘Uwaynīyah</td>\n",
       "      <td>{}</td>\n",
       "      <td>{}</td>\n",
       "      <td>{'Abyār al ‘Uwaynīyah': 0.0, 'Abyār al Kālikhī...</td>\n",
       "      <td>{'Abyār al ‘Uwaynīyah': 0.0, 'Abyār al Kālikhī...</td>\n",
       "      <td>{'Abyār al ‘Uwaynīyah': 21916, 'Abyār al Kālik...</td>\n",
       "      <td>6</td>\n",
       "      <td>3</td>\n",
       "    </tr>\n",
       "    <tr>\n",
       "      <th>7</th>\n",
       "      <td>Abyār an Na‘īm</td>\n",
       "      <td>{}</td>\n",
       "      <td>{}</td>\n",
       "      <td>{'Abyār an Na‘īm': 0.0, 'Abyar an Na`im': 9.3952}</td>\n",
       "      <td>{'Abyār an Na‘īm': -0.0, 'Abyar an Na`im': 0.0...</td>\n",
       "      <td>{'Abyār an Na‘īm': 23687, 'Abyar an Na`im': 30...</td>\n",
       "      <td>7</td>\n",
       "      <td>3</td>\n",
       "    </tr>\n",
       "    <tr>\n",
       "      <th>8</th>\n",
       "      <td>Abyār ash Shuwayrif</td>\n",
       "      <td>{}</td>\n",
       "      <td>{}</td>\n",
       "      <td>{'Abyār ash Shuwayrif': 0.0, 'Abyar ash Shuway...</td>\n",
       "      <td>{'Abyār ash Shuwayrif': 0.0, 'Abyar ash Shuway...</td>\n",
       "      <td>{'Abyār ash Shuwayrif': 14076, 'Abyar ash Shuw...</td>\n",
       "      <td>8</td>\n",
       "      <td>3</td>\n",
       "    </tr>\n",
       "    <tr>\n",
       "      <th>9</th>\n",
       "      <td>Abyār Zarqūn</td>\n",
       "      <td>{}</td>\n",
       "      <td>{}</td>\n",
       "      <td>{'Abyār Zarqūn': 0.0, 'Abyar Zarqun': 10.5219}</td>\n",
       "      <td>{'Abyār Zarqūn': 0.0, 'Abyar Zarqun': 0.0709}</td>\n",
       "      <td>{'Abyār Zarqūn': 27298, 'Abyar Zarqun': 28295}</td>\n",
       "      <td>9</td>\n",
       "      <td>3</td>\n",
       "    </tr>\n",
       "    <tr>\n",
       "      <th>10</th>\n",
       "      <td>Acropolis Gate</td>\n",
       "      <td>{}</td>\n",
       "      <td>{}</td>\n",
       "      <td>{}</td>\n",
       "      <td>{}</td>\n",
       "      <td>{}</td>\n",
       "      <td>10</td>\n",
       "      <td>3</td>\n",
       "    </tr>\n",
       "    <tr>\n",
       "      <th>11</th>\n",
       "      <td>Acropolis ridge</td>\n",
       "      <td>{}</td>\n",
       "      <td>{}</td>\n",
       "      <td>{}</td>\n",
       "      <td>{}</td>\n",
       "      <td>{}</td>\n",
       "      <td>11</td>\n",
       "      <td>3</td>\n",
       "    </tr>\n",
       "    <tr>\n",
       "      <th>12</th>\n",
       "      <td>Acropolis</td>\n",
       "      <td>{}</td>\n",
       "      <td>{}</td>\n",
       "      <td>{}</td>\n",
       "      <td>{}</td>\n",
       "      <td>{}</td>\n",
       "      <td>12</td>\n",
       "      <td>3</td>\n",
       "    </tr>\n",
       "    <tr>\n",
       "      <th>13</th>\n",
       "      <td>Acropolis</td>\n",
       "      <td>{}</td>\n",
       "      <td>{}</td>\n",
       "      <td>{}</td>\n",
       "      <td>{}</td>\n",
       "      <td>{}</td>\n",
       "      <td>13</td>\n",
       "      <td>3</td>\n",
       "    </tr>\n",
       "    <tr>\n",
       "      <th>14</th>\n",
       "      <td>Ad Disah</td>\n",
       "      <td>{}</td>\n",
       "      <td>{}</td>\n",
       "      <td>{'Ad Disah': 0.0, 'Ad Dīsah': 3.0763}</td>\n",
       "      <td>{'Ad Disah': 0.0, 'Ad Dīsah': 0.0194}</td>\n",
       "      <td>{'Ad Disah': 4068, 'Ad Dīsah': 19874}</td>\n",
       "      <td>14</td>\n",
       "      <td>3</td>\n",
       "    </tr>\n",
       "    <tr>\n",
       "      <th>15</th>\n",
       "      <td>Ad Ficum</td>\n",
       "      <td>{}</td>\n",
       "      <td>{}</td>\n",
       "      <td>{}</td>\n",
       "      <td>{}</td>\n",
       "      <td>{}</td>\n",
       "      <td>15</td>\n",
       "      <td>3</td>\n",
       "    </tr>\n",
       "    <tr>\n",
       "      <th>16</th>\n",
       "      <td>Ad Palmam</td>\n",
       "      <td>{}</td>\n",
       "      <td>{}</td>\n",
       "      <td>{}</td>\n",
       "      <td>{}</td>\n",
       "      <td>{}</td>\n",
       "      <td>16</td>\n",
       "      <td>3</td>\n",
       "    </tr>\n",
       "    <tr>\n",
       "      <th>17</th>\n",
       "      <td>Ad Tāmalālat</td>\n",
       "      <td>{}</td>\n",
       "      <td>{}</td>\n",
       "      <td>{}</td>\n",
       "      <td>{}</td>\n",
       "      <td>{}</td>\n",
       "      <td>17</td>\n",
       "      <td>3</td>\n",
       "    </tr>\n",
       "    <tr>\n",
       "      <th>18</th>\n",
       "      <td>Africa Proconsularis (Roman province)</td>\n",
       "      <td>{}</td>\n",
       "      <td>{}</td>\n",
       "      <td>{}</td>\n",
       "      <td>{}</td>\n",
       "      <td>{}</td>\n",
       "      <td>18</td>\n",
       "      <td>3</td>\n",
       "    </tr>\n",
       "    <tr>\n",
       "      <th>19</th>\n",
       "      <td>Agenzia di Navigazione Sicilia</td>\n",
       "      <td>{}</td>\n",
       "      <td>{}</td>\n",
       "      <td>{}</td>\n",
       "      <td>{}</td>\n",
       "      <td>{}</td>\n",
       "      <td>19</td>\n",
       "      <td>3</td>\n",
       "    </tr>\n",
       "    <tr>\n",
       "      <th>20</th>\n",
       "      <td>Aghram Nadharif</td>\n",
       "      <td>{}</td>\n",
       "      <td>{}</td>\n",
       "      <td>{}</td>\n",
       "      <td>{}</td>\n",
       "      <td>{}</td>\n",
       "      <td>20</td>\n",
       "      <td>3</td>\n",
       "    </tr>\n",
       "    <tr>\n",
       "      <th>21</th>\n",
       "      <td>Agora North Stoa</td>\n",
       "      <td>{}</td>\n",
       "      <td>{}</td>\n",
       "      <td>{}</td>\n",
       "      <td>{}</td>\n",
       "      <td>{}</td>\n",
       "      <td>21</td>\n",
       "      <td>3</td>\n",
       "    </tr>\n",
       "    <tr>\n",
       "      <th>22</th>\n",
       "      <td>Agora of the Gods</td>\n",
       "      <td>{}</td>\n",
       "      <td>{}</td>\n",
       "      <td>{}</td>\n",
       "      <td>{}</td>\n",
       "      <td>{}</td>\n",
       "      <td>22</td>\n",
       "      <td>3</td>\n",
       "    </tr>\n",
       "    <tr>\n",
       "      <th>23</th>\n",
       "      <td>Agora West Stoa</td>\n",
       "      <td>{}</td>\n",
       "      <td>{}</td>\n",
       "      <td>{}</td>\n",
       "      <td>{}</td>\n",
       "      <td>{}</td>\n",
       "      <td>23</td>\n",
       "      <td>3</td>\n",
       "    </tr>\n",
       "    <tr>\n",
       "      <th>24</th>\n",
       "      <td>Agora</td>\n",
       "      <td>{}</td>\n",
       "      <td>{}</td>\n",
       "      <td>{}</td>\n",
       "      <td>{}</td>\n",
       "      <td>{}</td>\n",
       "      <td>24</td>\n",
       "      <td>3</td>\n",
       "    </tr>\n",
       "    <tr>\n",
       "      <th>25</th>\n",
       "      <td>Agora/Forum</td>\n",
       "      <td>{}</td>\n",
       "      <td>{}</td>\n",
       "      <td>{}</td>\n",
       "      <td>{}</td>\n",
       "      <td>{}</td>\n",
       "      <td>25</td>\n",
       "      <td>3</td>\n",
       "    </tr>\n",
       "    <tr>\n",
       "      <th>26</th>\n",
       "      <td>Ajdabiya</td>\n",
       "      <td>{}</td>\n",
       "      <td>{}</td>\n",
       "      <td>{'Ajdabiya': 0.0}</td>\n",
       "      <td>{'Ajdabiya': 0.0}</td>\n",
       "      <td>{'Ajdabiya': 24641}</td>\n",
       "      <td>26</td>\n",
       "      <td>3</td>\n",
       "    </tr>\n",
       "    <tr>\n",
       "      <th>27</th>\n",
       "      <td>Al Abyad</td>\n",
       "      <td>{}</td>\n",
       "      <td>{}</td>\n",
       "      <td>{'Al Abyad': 0.0, 'Al Abyaḑ': 12.7365}</td>\n",
       "      <td>{'Al Abyad': 0.0, 'Al Abyaḑ': 0.0781}</td>\n",
       "      <td>{'Al Abyad': 17441, 'Al Abyaḑ': 12513}</td>\n",
       "      <td>27</td>\n",
       "      <td>3</td>\n",
       "    </tr>\n",
       "    <tr>\n",
       "      <th>28</th>\n",
       "      <td>Al Aşābi‘ah</td>\n",
       "      <td>{}</td>\n",
       "      <td>{}</td>\n",
       "      <td>{'Al Aşābi‘ah': 0.0}</td>\n",
       "      <td>{'Al Aşābi‘ah': 0.0}</td>\n",
       "      <td>{'Al Aşābi‘ah': 489}</td>\n",
       "      <td>28</td>\n",
       "      <td>3</td>\n",
       "    </tr>\n",
       "    <tr>\n",
       "      <th>29</th>\n",
       "      <td>al Asnam</td>\n",
       "      <td>{}</td>\n",
       "      <td>{}</td>\n",
       "      <td>{}</td>\n",
       "      <td>{}</td>\n",
       "      <td>{}</td>\n",
       "      <td>29</td>\n",
       "      <td>3</td>\n",
       "    </tr>\n",
       "    <tr>\n",
       "      <th>30</th>\n",
       "      <td>Al Athrun</td>\n",
       "      <td>{}</td>\n",
       "      <td>{}</td>\n",
       "      <td>{'Al Athrun': 0.0, 'Al Athrūn': 14.8889}</td>\n",
       "      <td>{'Al Athrun': 0.0, 'Al Athrūn': 0.1003}</td>\n",
       "      <td>{'Al Athrun': 11550, 'Al Athrūn': 1158}</td>\n",
       "      <td>30</td>\n",
       "      <td>3</td>\n",
       "    </tr>\n",
       "    <tr>\n",
       "      <th>31</th>\n",
       "      <td>Al Barāhimah</td>\n",
       "      <td>{}</td>\n",
       "      <td>{}</td>\n",
       "      <td>{'Al Barāhimah': 0.0, 'Al Barahimah': 8.2157, ...</td>\n",
       "      <td>{'Al Barāhimah': 0.0, 'Al Barahimah': 0.0571, ...</td>\n",
       "      <td>{'Al Barāhimah': 18656, 'Al Barahimah': 27670,...</td>\n",
       "      <td>31</td>\n",
       "      <td>3</td>\n",
       "    </tr>\n",
       "    <tr>\n",
       "      <th>32</th>\n",
       "      <td>Al Bayda</td>\n",
       "      <td>{}</td>\n",
       "      <td>{}</td>\n",
       "      <td>{'Al Bayḑā’': 12.0208, 'Al Badīf': 14.3104}</td>\n",
       "      <td>{'Al Bayḑā’': 0.0738, 'Al Badīf': 0.0865}</td>\n",
       "      <td>{'Al Bayḑā’': 18527, 'Al Badīf': 2083}</td>\n",
       "      <td>32</td>\n",
       "      <td>3</td>\n",
       "    </tr>\n",
       "    <tr>\n",
       "      <th>33</th>\n",
       "      <td>Al Birkah</td>\n",
       "      <td>{}</td>\n",
       "      <td>{}</td>\n",
       "      <td>{'Al Birkah': 0.0}</td>\n",
       "      <td>{'Al Birkah': 0.0}</td>\n",
       "      <td>{'Al Birkah': 32265}</td>\n",
       "      <td>33</td>\n",
       "      <td>3</td>\n",
       "    </tr>\n",
       "    <tr>\n",
       "      <th>34</th>\n",
       "      <td>Al Burayqah</td>\n",
       "      <td>{}</td>\n",
       "      <td>{}</td>\n",
       "      <td>{'Al Burayqah': 0.0, 'Al Burayfah': 13.6718}</td>\n",
       "      <td>{'Al Burayqah': 0.0, 'Al Burayfah': 0.0877}</td>\n",
       "      <td>{'Al Burayqah': 12463, 'Al Burayfah': 15425}</td>\n",
       "      <td>34</td>\n",
       "      <td>3</td>\n",
       "    </tr>\n",
       "    <tr>\n",
       "      <th>35</th>\n",
       "      <td>Al Burdī</td>\n",
       "      <td>{}</td>\n",
       "      <td>{}</td>\n",
       "      <td>{'Al Burdī': 0.0, 'Al Burdi': 7.4037}</td>\n",
       "      <td>{'Al Burdī': 0.0, 'Al Burdi': 0.0491}</td>\n",
       "      <td>{'Al Burdī': 1549, 'Al Burdi': 12002}</td>\n",
       "      <td>35</td>\n",
       "      <td>3</td>\n",
       "    </tr>\n",
       "    <tr>\n",
       "      <th>36</th>\n",
       "      <td>Al Fājir</td>\n",
       "      <td>{}</td>\n",
       "      <td>{}</td>\n",
       "      <td>{'Al Fājir': 0.0, 'Al Fajir': 14.384}</td>\n",
       "      <td>{'Al Fājir': -0.0, 'Al Fajir': 0.0928}</td>\n",
       "      <td>{'Al Fājir': 30979, 'Al Fajir': 27428}</td>\n",
       "      <td>36</td>\n",
       "      <td>3</td>\n",
       "    </tr>\n",
       "    <tr>\n",
       "      <th>37</th>\n",
       "      <td>Al Fā’idīyah</td>\n",
       "      <td>{}</td>\n",
       "      <td>{}</td>\n",
       "      <td>{'Al `Uzayyilah': 12.765, 'Al Fahdīyah': 13.77...</td>\n",
       "      <td>{'Al `Uzayyilah': 0.0799, 'Al Fahdīyah': 0.086...</td>\n",
       "      <td>{'Al `Uzayyilah': 20034, 'Al Fahdīyah': 3455, ...</td>\n",
       "      <td>37</td>\n",
       "      <td>3</td>\n",
       "    </tr>\n",
       "    <tr>\n",
       "      <th>38</th>\n",
       "      <td>al Fujayj</td>\n",
       "      <td>{}</td>\n",
       "      <td>{}</td>\n",
       "      <td>{'Al Fujayj': 0.0}</td>\n",
       "      <td>{'Al Fujayj': 0.0}</td>\n",
       "      <td>{'Al Fujayj': 861}</td>\n",
       "      <td>38</td>\n",
       "      <td>3</td>\n",
       "    </tr>\n",
       "    <tr>\n",
       "      <th>39</th>\n",
       "      <td>Al Fuqar</td>\n",
       "      <td>{}</td>\n",
       "      <td>{}</td>\n",
       "      <td>{'Al Fuqar': 0.0}</td>\n",
       "      <td>{'Al Fuqar': -0.0}</td>\n",
       "      <td>{'Al Fuqar': 7004}</td>\n",
       "      <td>39</td>\n",
       "      <td>3</td>\n",
       "    </tr>\n",
       "    <tr>\n",
       "      <th>40</th>\n",
       "      <td>Al Ghīrān</td>\n",
       "      <td>{}</td>\n",
       "      <td>{}</td>\n",
       "      <td>{'Al Ghīrān': 0.0}</td>\n",
       "      <td>{'Al Ghīrān': -0.0}</td>\n",
       "      <td>{'Al Ghīrān': 3124}</td>\n",
       "      <td>40</td>\n",
       "      <td>3</td>\n",
       "    </tr>\n",
       "    <tr>\n",
       "      <th>41</th>\n",
       "      <td>Al Ghurayfah</td>\n",
       "      <td>{}</td>\n",
       "      <td>{}</td>\n",
       "      <td>{'Al Ghurayfah': 0.0}</td>\n",
       "      <td>{'Al Ghurayfah': -0.0}</td>\n",
       "      <td>{'Al Ghurayfah': 22540}</td>\n",
       "      <td>41</td>\n",
       "      <td>3</td>\n",
       "    </tr>\n",
       "    <tr>\n",
       "      <th>42</th>\n",
       "      <td>Al Ḩamādah al Ḩamrā’</td>\n",
       "      <td>{}</td>\n",
       "      <td>{}</td>\n",
       "      <td>{'Al Ḩamādah al Ḩamrā’': 0.0, 'Al Ḩāshiyah al ...</td>\n",
       "      <td>{'Al Ḩamādah al Ḩamrā’': 0.0, 'Al Ḩāshiyah al ...</td>\n",
       "      <td>{'Al Ḩamādah al Ḩamrā’': 25377, 'Al Ḩāshiyah a...</td>\n",
       "      <td>42</td>\n",
       "      <td>3</td>\n",
       "    </tr>\n",
       "    <tr>\n",
       "      <th>43</th>\n",
       "      <td>Al Ḩamrā’</td>\n",
       "      <td>{}</td>\n",
       "      <td>{}</td>\n",
       "      <td>{'Al Ḩamrā’': 0.0, 'Al Ḩamādah al Ḩamrā’': 9.3...</td>\n",
       "      <td>{'Al Ḩamrā’': 0.0, 'Al Ḩamādah al Ḩamrā’': 0.0...</td>\n",
       "      <td>{'Al Ḩamrā’': 18903, 'Al Ḩamādah al Ḩamrā’': 2...</td>\n",
       "      <td>43</td>\n",
       "      <td>3</td>\n",
       "    </tr>\n",
       "    <tr>\n",
       "      <th>44</th>\n",
       "      <td>Al Ḩanīyah</td>\n",
       "      <td>{}</td>\n",
       "      <td>{}</td>\n",
       "      <td>{'Al Ḩanīyah': 0.0, 'Al Haniyah': 6.6663, 'Al ...</td>\n",
       "      <td>{'Al Ḩanīyah': -0.0, 'Al Haniyah': 0.0433, 'Al...</td>\n",
       "      <td>{'Al Ḩanīyah': 26484, 'Al Haniyah': 2341, 'Al ...</td>\n",
       "      <td>44</td>\n",
       "      <td>3</td>\n",
       "    </tr>\n",
       "    <tr>\n",
       "      <th>45</th>\n",
       "      <td>Al Ḩasy</td>\n",
       "      <td>{}</td>\n",
       "      <td>{}</td>\n",
       "      <td>{'Al Ḩasy': 0.0, 'Al Hasy': 4.0095}</td>\n",
       "      <td>{'Al Ḩasy': -0.0, 'Al Hasy': 0.0245}</td>\n",
       "      <td>{'Al Ḩasy': 8273, 'Al Hasy': 10884}</td>\n",
       "      <td>45</td>\n",
       "      <td>3</td>\n",
       "    </tr>\n",
       "    <tr>\n",
       "      <th>46</th>\n",
       "      <td>Al Ḩaţīyah</td>\n",
       "      <td>{}</td>\n",
       "      <td>{}</td>\n",
       "      <td>{'Al Ḩaţīyah': 0.0, 'Al Hatiyah': 10.0845, 'Al...</td>\n",
       "      <td>{'Al Ḩaţīyah': 0.0, 'Al Hatiyah': 0.0621, 'Al ...</td>\n",
       "      <td>{'Al Ḩaţīyah': 14786, 'Al Hatiyah': 33021, 'Al...</td>\n",
       "      <td>46</td>\n",
       "      <td>3</td>\n",
       "    </tr>\n",
       "    <tr>\n",
       "      <th>47</th>\n",
       "      <td>Al Ḩimādah</td>\n",
       "      <td>{}</td>\n",
       "      <td>{}</td>\n",
       "      <td>{'Al Ḩimādah': 0.0, 'Al Himadah': 13.8796}</td>\n",
       "      <td>{'Al Ḩimādah': 0.0, 'Al Himadah': 0.0871}</td>\n",
       "      <td>{'Al Ḩimādah': 14063, 'Al Himadah': 8829}</td>\n",
       "      <td>47</td>\n",
       "      <td>3</td>\n",
       "    </tr>\n",
       "    <tr>\n",
       "      <th>48</th>\n",
       "      <td>Al Jabal al Akhdar</td>\n",
       "      <td>{}</td>\n",
       "      <td>{}</td>\n",
       "      <td>{'Al Jabal al Akhdar': 0.0}</td>\n",
       "      <td>{'Al Jabal al Akhdar': -0.0}</td>\n",
       "      <td>{'Al Jabal al Akhdar': 3447}</td>\n",
       "      <td>48</td>\n",
       "      <td>3</td>\n",
       "    </tr>\n",
       "    <tr>\n",
       "      <th>49</th>\n",
       "      <td>Al Jawsh</td>\n",
       "      <td>{}</td>\n",
       "      <td>{}</td>\n",
       "      <td>{'Al Jawsh': 0.0, 'Al Lawdh': 11.7192}</td>\n",
       "      <td>{'Al Jawsh': -0.0, 'Al Lawdh': 0.0657}</td>\n",
       "      <td>{'Al Jawsh': 26669, 'Al Lawdh': 1595}</td>\n",
       "      <td>49</td>\n",
       "      <td>3</td>\n",
       "    </tr>\n",
       "  </tbody>\n",
       "</table>\n",
       "</div>"
      ],
      "text/plain": [
       "                                    query pred_score 1-pred_score  \\\n",
       "id                                                                  \n",
       "0                         ‘Ayn as Salmānī         {}           {}   \n",
       "1                               Abu Njaym         {}           {}   \n",
       "2                        Abyār Abū Sa‘dah         {}           {}   \n",
       "3                       Abyār Abū Zāhiyah         {}           {}   \n",
       "4                         Abyār al Qindīl         {}           {}   \n",
       "5                       Abyār al ‘Usaylah         {}           {}   \n",
       "6                     Abyār al ‘Uwaynīyah         {}           {}   \n",
       "7                          Abyār an Na‘īm         {}           {}   \n",
       "8                     Abyār ash Shuwayrif         {}           {}   \n",
       "9                            Abyār Zarqūn         {}           {}   \n",
       "10                         Acropolis Gate         {}           {}   \n",
       "11                        Acropolis ridge         {}           {}   \n",
       "12                              Acropolis         {}           {}   \n",
       "13                              Acropolis         {}           {}   \n",
       "14                               Ad Disah         {}           {}   \n",
       "15                               Ad Ficum         {}           {}   \n",
       "16                              Ad Palmam         {}           {}   \n",
       "17                           Ad Tāmalālat         {}           {}   \n",
       "18  Africa Proconsularis (Roman province)         {}           {}   \n",
       "19         Agenzia di Navigazione Sicilia         {}           {}   \n",
       "20                        Aghram Nadharif         {}           {}   \n",
       "21                       Agora North Stoa         {}           {}   \n",
       "22                      Agora of the Gods         {}           {}   \n",
       "23                        Agora West Stoa         {}           {}   \n",
       "24                                  Agora         {}           {}   \n",
       "25                            Agora/Forum         {}           {}   \n",
       "26                               Ajdabiya         {}           {}   \n",
       "27                               Al Abyad         {}           {}   \n",
       "28                            Al Aşābi‘ah         {}           {}   \n",
       "29                               al Asnam         {}           {}   \n",
       "30                              Al Athrun         {}           {}   \n",
       "31                           Al Barāhimah         {}           {}   \n",
       "32                               Al Bayda         {}           {}   \n",
       "33                              Al Birkah         {}           {}   \n",
       "34                            Al Burayqah         {}           {}   \n",
       "35                               Al Burdī         {}           {}   \n",
       "36                               Al Fājir         {}           {}   \n",
       "37                           Al Fā’idīyah         {}           {}   \n",
       "38                              al Fujayj         {}           {}   \n",
       "39                               Al Fuqar         {}           {}   \n",
       "40                              Al Ghīrān         {}           {}   \n",
       "41                           Al Ghurayfah         {}           {}   \n",
       "42                   Al Ḩamādah al Ḩamrā’         {}           {}   \n",
       "43                              Al Ḩamrā’         {}           {}   \n",
       "44                             Al Ḩanīyah         {}           {}   \n",
       "45                                Al Ḩasy         {}           {}   \n",
       "46                             Al Ḩaţīyah         {}           {}   \n",
       "47                             Al Ḩimādah         {}           {}   \n",
       "48                     Al Jabal al Akhdar         {}           {}   \n",
       "49                               Al Jawsh         {}           {}   \n",
       "\n",
       "                                       faiss_distance  \\\n",
       "id                                                      \n",
       "0                            {'‘Ayn as Salmānī': 0.0}   \n",
       "1          {'Abu Na`im': 9.513, 'Abū Na‘īm': 11.4511}   \n",
       "2   {'Abyār Abū Sa‘dah': 0.0, 'Abyar Abu Sa`dah': ...   \n",
       "3   {'Abyār Abū Zāhiyah': 0.0, 'Abyar Abu Zahiyah'...   \n",
       "4   {'Abyār al Qindīl': 0.0, 'Abyar al Qindil': 11...   \n",
       "5   {'Abyār al ‘Usaylah': 0.0, 'Abyar al `Usaylah'...   \n",
       "6   {'Abyār al ‘Uwaynīyah': 0.0, 'Abyār al Kālikhī...   \n",
       "7   {'Abyār an Na‘īm': 0.0, 'Abyar an Na`im': 9.3952}   \n",
       "8   {'Abyār ash Shuwayrif': 0.0, 'Abyar ash Shuway...   \n",
       "9      {'Abyār Zarqūn': 0.0, 'Abyar Zarqun': 10.5219}   \n",
       "10                                                 {}   \n",
       "11                                                 {}   \n",
       "12                                                 {}   \n",
       "13                                                 {}   \n",
       "14              {'Ad Disah': 0.0, 'Ad Dīsah': 3.0763}   \n",
       "15                                                 {}   \n",
       "16                                                 {}   \n",
       "17                                                 {}   \n",
       "18                                                 {}   \n",
       "19                                                 {}   \n",
       "20                                                 {}   \n",
       "21                                                 {}   \n",
       "22                                                 {}   \n",
       "23                                                 {}   \n",
       "24                                                 {}   \n",
       "25                                                 {}   \n",
       "26                                  {'Ajdabiya': 0.0}   \n",
       "27             {'Al Abyad': 0.0, 'Al Abyaḑ': 12.7365}   \n",
       "28                               {'Al Aşābi‘ah': 0.0}   \n",
       "29                                                 {}   \n",
       "30           {'Al Athrun': 0.0, 'Al Athrūn': 14.8889}   \n",
       "31  {'Al Barāhimah': 0.0, 'Al Barahimah': 8.2157, ...   \n",
       "32        {'Al Bayḑā’': 12.0208, 'Al Badīf': 14.3104}   \n",
       "33                                 {'Al Birkah': 0.0}   \n",
       "34       {'Al Burayqah': 0.0, 'Al Burayfah': 13.6718}   \n",
       "35              {'Al Burdī': 0.0, 'Al Burdi': 7.4037}   \n",
       "36              {'Al Fājir': 0.0, 'Al Fajir': 14.384}   \n",
       "37  {'Al `Uzayyilah': 12.765, 'Al Fahdīyah': 13.77...   \n",
       "38                                 {'Al Fujayj': 0.0}   \n",
       "39                                  {'Al Fuqar': 0.0}   \n",
       "40                                 {'Al Ghīrān': 0.0}   \n",
       "41                              {'Al Ghurayfah': 0.0}   \n",
       "42  {'Al Ḩamādah al Ḩamrā’': 0.0, 'Al Ḩāshiyah al ...   \n",
       "43  {'Al Ḩamrā’': 0.0, 'Al Ḩamādah al Ḩamrā’': 9.3...   \n",
       "44  {'Al Ḩanīyah': 0.0, 'Al Haniyah': 6.6663, 'Al ...   \n",
       "45                {'Al Ḩasy': 0.0, 'Al Hasy': 4.0095}   \n",
       "46  {'Al Ḩaţīyah': 0.0, 'Al Hatiyah': 10.0845, 'Al...   \n",
       "47         {'Al Ḩimādah': 0.0, 'Al Himadah': 13.8796}   \n",
       "48                        {'Al Jabal al Akhdar': 0.0}   \n",
       "49             {'Al Jawsh': 0.0, 'Al Lawdh': 11.7192}   \n",
       "\n",
       "                                          cosine_dist  \\\n",
       "id                                                      \n",
       "0                           {'‘Ayn as Salmānī': -0.0}   \n",
       "1          {'Abu Na`im': 0.0599, 'Abū Na‘īm': 0.0727}   \n",
       "2   {'Abyār Abū Sa‘dah': 0.0, 'Abyar Abu Sa`dah': ...   \n",
       "3   {'Abyār Abū Zāhiyah': -0.0, 'Abyar Abu Zahiyah...   \n",
       "4   {'Abyār al Qindīl': 0.0, 'Abyar al Qindil': 0....   \n",
       "5   {'Abyār al ‘Usaylah': 0.0, 'Abyar al `Usaylah'...   \n",
       "6   {'Abyār al ‘Uwaynīyah': 0.0, 'Abyār al Kālikhī...   \n",
       "7   {'Abyār an Na‘īm': -0.0, 'Abyar an Na`im': 0.0...   \n",
       "8   {'Abyār ash Shuwayrif': 0.0, 'Abyar ash Shuway...   \n",
       "9       {'Abyār Zarqūn': 0.0, 'Abyar Zarqun': 0.0709}   \n",
       "10                                                 {}   \n",
       "11                                                 {}   \n",
       "12                                                 {}   \n",
       "13                                                 {}   \n",
       "14              {'Ad Disah': 0.0, 'Ad Dīsah': 0.0194}   \n",
       "15                                                 {}   \n",
       "16                                                 {}   \n",
       "17                                                 {}   \n",
       "18                                                 {}   \n",
       "19                                                 {}   \n",
       "20                                                 {}   \n",
       "21                                                 {}   \n",
       "22                                                 {}   \n",
       "23                                                 {}   \n",
       "24                                                 {}   \n",
       "25                                                 {}   \n",
       "26                                  {'Ajdabiya': 0.0}   \n",
       "27              {'Al Abyad': 0.0, 'Al Abyaḑ': 0.0781}   \n",
       "28                               {'Al Aşābi‘ah': 0.0}   \n",
       "29                                                 {}   \n",
       "30            {'Al Athrun': 0.0, 'Al Athrūn': 0.1003}   \n",
       "31  {'Al Barāhimah': 0.0, 'Al Barahimah': 0.0571, ...   \n",
       "32          {'Al Bayḑā’': 0.0738, 'Al Badīf': 0.0865}   \n",
       "33                                 {'Al Birkah': 0.0}   \n",
       "34        {'Al Burayqah': 0.0, 'Al Burayfah': 0.0877}   \n",
       "35              {'Al Burdī': 0.0, 'Al Burdi': 0.0491}   \n",
       "36             {'Al Fājir': -0.0, 'Al Fajir': 0.0928}   \n",
       "37  {'Al `Uzayyilah': 0.0799, 'Al Fahdīyah': 0.086...   \n",
       "38                                 {'Al Fujayj': 0.0}   \n",
       "39                                 {'Al Fuqar': -0.0}   \n",
       "40                                {'Al Ghīrān': -0.0}   \n",
       "41                             {'Al Ghurayfah': -0.0}   \n",
       "42  {'Al Ḩamādah al Ḩamrā’': 0.0, 'Al Ḩāshiyah al ...   \n",
       "43  {'Al Ḩamrā’': 0.0, 'Al Ḩamādah al Ḩamrā’': 0.0...   \n",
       "44  {'Al Ḩanīyah': -0.0, 'Al Haniyah': 0.0433, 'Al...   \n",
       "45               {'Al Ḩasy': -0.0, 'Al Hasy': 0.0245}   \n",
       "46  {'Al Ḩaţīyah': 0.0, 'Al Hatiyah': 0.0621, 'Al ...   \n",
       "47          {'Al Ḩimādah': 0.0, 'Al Himadah': 0.0871}   \n",
       "48                       {'Al Jabal al Akhdar': -0.0}   \n",
       "49             {'Al Jawsh': -0.0, 'Al Lawdh': 0.0657}   \n",
       "\n",
       "                               candidate_original_ids  query_original_id  \\\n",
       "id                                                                         \n",
       "0                           {'‘Ayn as Salmānī': 4804}                  0   \n",
       "1            {'Abu Na`im': 30679, 'Abū Na‘īm': 17761}                  1   \n",
       "2   {'Abyār Abū Sa‘dah': 10557, 'Abyar Abu Sa`dah'...                  2   \n",
       "3   {'Abyār Abū Zāhiyah': 27074, 'Abyar Abu Zahiya...                  3   \n",
       "4   {'Abyār al Qindīl': 6973, 'Abyar al Qindil': 7...                  4   \n",
       "5   {'Abyār al ‘Usaylah': 15184, 'Abyar al `Usayla...                  5   \n",
       "6   {'Abyār al ‘Uwaynīyah': 21916, 'Abyār al Kālik...                  6   \n",
       "7   {'Abyār an Na‘īm': 23687, 'Abyar an Na`im': 30...                  7   \n",
       "8   {'Abyār ash Shuwayrif': 14076, 'Abyar ash Shuw...                  8   \n",
       "9      {'Abyār Zarqūn': 27298, 'Abyar Zarqun': 28295}                  9   \n",
       "10                                                 {}                 10   \n",
       "11                                                 {}                 11   \n",
       "12                                                 {}                 12   \n",
       "13                                                 {}                 13   \n",
       "14              {'Ad Disah': 4068, 'Ad Dīsah': 19874}                 14   \n",
       "15                                                 {}                 15   \n",
       "16                                                 {}                 16   \n",
       "17                                                 {}                 17   \n",
       "18                                                 {}                 18   \n",
       "19                                                 {}                 19   \n",
       "20                                                 {}                 20   \n",
       "21                                                 {}                 21   \n",
       "22                                                 {}                 22   \n",
       "23                                                 {}                 23   \n",
       "24                                                 {}                 24   \n",
       "25                                                 {}                 25   \n",
       "26                                {'Ajdabiya': 24641}                 26   \n",
       "27             {'Al Abyad': 17441, 'Al Abyaḑ': 12513}                 27   \n",
       "28                               {'Al Aşābi‘ah': 489}                 28   \n",
       "29                                                 {}                 29   \n",
       "30            {'Al Athrun': 11550, 'Al Athrūn': 1158}                 30   \n",
       "31  {'Al Barāhimah': 18656, 'Al Barahimah': 27670,...                 31   \n",
       "32             {'Al Bayḑā’': 18527, 'Al Badīf': 2083}                 32   \n",
       "33                               {'Al Birkah': 32265}                 33   \n",
       "34       {'Al Burayqah': 12463, 'Al Burayfah': 15425}                 34   \n",
       "35              {'Al Burdī': 1549, 'Al Burdi': 12002}                 35   \n",
       "36             {'Al Fājir': 30979, 'Al Fajir': 27428}                 36   \n",
       "37  {'Al `Uzayyilah': 20034, 'Al Fahdīyah': 3455, ...                 37   \n",
       "38                                 {'Al Fujayj': 861}                 38   \n",
       "39                                 {'Al Fuqar': 7004}                 39   \n",
       "40                                {'Al Ghīrān': 3124}                 40   \n",
       "41                            {'Al Ghurayfah': 22540}                 41   \n",
       "42  {'Al Ḩamādah al Ḩamrā’': 25377, 'Al Ḩāshiyah a...                 42   \n",
       "43  {'Al Ḩamrā’': 18903, 'Al Ḩamādah al Ḩamrā’': 2...                 43   \n",
       "44  {'Al Ḩanīyah': 26484, 'Al Haniyah': 2341, 'Al ...                 44   \n",
       "45                {'Al Ḩasy': 8273, 'Al Hasy': 10884}                 45   \n",
       "46  {'Al Ḩaţīyah': 14786, 'Al Hatiyah': 33021, 'Al...                 46   \n",
       "47          {'Al Ḩimādah': 14063, 'Al Himadah': 8829}                 47   \n",
       "48                       {'Al Jabal al Akhdar': 3447}                 48   \n",
       "49              {'Al Jawsh': 26669, 'Al Lawdh': 1595}                 49   \n",
       "\n",
       "    num_all_searches  \n",
       "id                    \n",
       "0                  3  \n",
       "1                  3  \n",
       "2                  3  \n",
       "3                  3  \n",
       "4                  3  \n",
       "5                  3  \n",
       "6                  3  \n",
       "7                  3  \n",
       "8                  3  \n",
       "9                  3  \n",
       "10                 3  \n",
       "11                 3  \n",
       "12                 3  \n",
       "13                 3  \n",
       "14                 3  \n",
       "15                 3  \n",
       "16                 3  \n",
       "17                 3  \n",
       "18                 3  \n",
       "19                 3  \n",
       "20                 3  \n",
       "21                 3  \n",
       "22                 3  \n",
       "23                 3  \n",
       "24                 3  \n",
       "25                 3  \n",
       "26                 3  \n",
       "27                 3  \n",
       "28                 3  \n",
       "29                 3  \n",
       "30                 3  \n",
       "31                 3  \n",
       "32                 3  \n",
       "33                 3  \n",
       "34                 3  \n",
       "35                 3  \n",
       "36                 3  \n",
       "37                 3  \n",
       "38                 3  \n",
       "39                 3  \n",
       "40                 3  \n",
       "41                 3  \n",
       "42                 3  \n",
       "43                 3  \n",
       "44                 3  \n",
       "45                 3  \n",
       "46                 3  \n",
       "47                 3  \n",
       "48                 3  \n",
       "49                 3  "
      ]
     },
     "execution_count": 10,
     "metadata": {},
     "output_type": "execute_result"
    }
   ],
   "source": [
    "candidates_pd.iloc[:50]"
   ]
  },
  {
   "cell_type": "code",
   "execution_count": null,
   "metadata": {},
   "outputs": [],
   "source": []
  }
 ],
 "metadata": {
  "kernelspec": {
   "display_name": "Python 3 (ipykernel)",
   "language": "python",
   "name": "python3"
  },
  "language_info": {
   "codemirror_mode": {
    "name": "ipython",
    "version": 3
   },
   "file_extension": ".py",
   "mimetype": "text/x-python",
   "name": "python",
   "nbconvert_exporter": "python",
   "pygments_lexer": "ipython3",
   "version": "3.9.12"
  },
  "vscode": {
   "interpreter": {
    "hash": "26a5527aa58fafc67e53d83503597f8ba110345d20ac6660bedc50bf2ce973f6"
   }
  }
 },
 "nbformat": 4,
 "nbformat_minor": 4
}
