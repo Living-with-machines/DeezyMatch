{
 "cells": [
  {
   "cell_type": "code",
   "execution_count": null,
   "metadata": {},
   "outputs": [],
   "source": [
    "import os\n",
    "from tqdm import tqdm\n",
    "from fuzzywuzzy import fuzz\n",
    "from gensim.models import Word2Vec\n",
    "\n",
    "# Lists for English words:\n",
    "from nltk.corpus import words, brown\n",
    "from english_words import english_words_set"
   ]
  },
  {
   "cell_type": "code",
   "execution_count": null,
   "metadata": {},
   "outputs": [],
   "source": [
    "decade = \"1860s\""
   ]
  },
  {
   "cell_type": "code",
   "execution_count": null,
   "metadata": {},
   "outputs": [],
   "source": [
    "# Read a word2vec model\n",
    "path2model = os.path.join(\"data\", \"w2v_\" + decade + \"_news\", \"w2v.model\")\n",
    "model = Word2Vec.load(path2model)"
   ]
  },
  {
   "cell_type": "code",
   "execution_count": null,
   "metadata": {},
   "outputs": [],
   "source": [
    "# Words in the embeddings:\n",
    "w2v_words = list(model.wv.index_to_key)"
   ]
  },
  {
   "cell_type": "code",
   "execution_count": null,
   "metadata": {},
   "outputs": [],
   "source": [
    "# Words in the English language:\n",
    "english_words_set = set([x[0] for x in english_words_set])\n",
    "english_words = english_words_set.union(set(words.words()))\n",
    "brown_words = set(brown.words())\n",
    "english_words = english_words.union(brown_words)"
   ]
  },
  {
   "cell_type": "code",
   "execution_count": null,
   "metadata": {},
   "outputs": [],
   "source": [
    "def obtain_matches(word, sims):\n",
    "    \"\"\"Given a word and the top 100 nearest neighbours, separate into positive and negative matches.\"\"\"\n",
    "    negative = []\n",
    "    positive = [word]\n",
    "    for nn in sims:\n",
    "        nn_word = nn[0]\n",
    "        # If one word is not a subset of another:\n",
    "        if not nn_word in word and not word in nn_word:\n",
    "            # Split both the word and the nearest neighbour in two parts: the idea is that both\n",
    "            # parts should be equally similar or equally dissimilar, in order to consider them\n",
    "            # as positive or negative matches (e.g. \"careless\" and \"listless\" are two clear words\n",
    "            # but have high string similarity due to a big chunk of the word---the suffix---being\n",
    "            # identical):\n",
    "            nn_word_1 = nn_word[:len(nn_word)//2]\n",
    "            nn_word_2 = nn_word[len(nn_word)//2:]\n",
    "            word_1 = word[:len(word)//2]\n",
    "            word_2 = word[len(word)//2:]\n",
    "            # If the nearest neighbour word is a word of the English language\n",
    "            # and the string similarity is less than 0.50, we consider it a\n",
    "            # negative match (i.e. not an OCR variation):\n",
    "            if nn_word in english_words and fuzz.ratio(nn_word_1, word_1) < 50 and fuzz.ratio(nn_word_2, word_2) < 50:\n",
    "                negative.append(nn_word)\n",
    "            # If the nearest neighbour word is not a word of the English language\n",
    "            # and the string similarity is more than 0.50, we consider it a\n",
    "            # positive match (i.e. an OCR variation):\n",
    "            if not nn_word in english_words and fuzz.ratio(nn_word_1, word_1) > 50 and fuzz.ratio(nn_word_2, word_2) > 50:\n",
    "                positive.append(nn_word)\n",
    "    return positive, negative"
   ]
  },
  {
   "cell_type": "code",
   "execution_count": null,
   "metadata": {},
   "outputs": [],
   "source": [
    "# For each word in the w2v model, keep likely positive and negative matches:\n",
    "positive_matches = []\n",
    "negative_matches = []\n",
    "for word in tqdm(w2v_words):\n",
    "    # For each word in the w2v model that is longer than 4 characters and \n",
    "    # is a word in the English language:\n",
    "    if len(word) > 4 and word in english_words:\n",
    "        # Get the top 100 nearest neighbors\n",
    "        sims = model.wv.most_similar(word, topn=100)\n",
    "        # Distinguist between positive and negative matches, where\n",
    "        # * a positive match is an OCR word variation\n",
    "        # * a negative match is a different word\n",
    "        positive, negative = obtain_matches(word, sims)\n",
    "        # We should have the same number of positive matches as negative:\n",
    "        shortest_length = min([len(positive), len(negative)])\n",
    "        negative = negative[:shortest_length]\n",
    "        positive = positive[:shortest_length]\n",
    "        # Prepare for writing into file:\n",
    "        negative_matches += [word + \"\\t\" + x + \"\\t\" + \"FALSE\\n\" for x in negative]\n",
    "        positive_matches += [word + \"\\t\" + x + \"\\t\" + \"TRUE\\n\" for x in positive]\n",
    "\n",
    "# Write string pairs into a file:\n",
    "with open(\"data/w2v_ocr_pairs_\" + decade + \".txt\", \"w\") as fw:\n",
    "    for nm in negative_matches:\n",
    "        fw.write(nm)\n",
    "    for pm in positive_matches:\n",
    "        fw.write(pm)"
   ]
  },
  {
   "cell_type": "code",
   "execution_count": null,
   "metadata": {},
   "outputs": [],
   "source": [
    "queries = []\n",
    "candidates = []\n",
    "for string_match in positive_matches + negative_matches:\n",
    "    candidates.append(string_match.split(\"\\t\")[0])\n",
    "    queries.append(string_match.split(\"\\t\")[1])\n",
    "\n",
    "# Write queries and candidates into a file:\n",
    "with open(\"data/queries_\" + decade + \".txt\", \"w\") as fw:\n",
    "    for q in set(queries):\n",
    "        fw.write(q + \"\\n\")\n",
    "with open(\"data/candidates_\" + decade + \".txt\", \"w\") as fw:\n",
    "    for c in set(candidates).union(english_words):\n",
    "        fw.write(c + \"\\n\")"
   ]
  },
  {
   "cell_type": "code",
   "execution_count": null,
   "metadata": {},
   "outputs": [],
   "source": []
  }
 ],
 "metadata": {
  "kernelspec": {
   "display_name": "Python 3.9.7 ('py39')",
   "language": "python",
   "name": "python3"
  },
  "language_info": {
   "codemirror_mode": {
    "name": "ipython",
    "version": 3
   },
   "file_extension": ".py",
   "mimetype": "text/x-python",
   "name": "python",
   "nbconvert_exporter": "python",
   "pygments_lexer": "ipython3",
   "version": "3.9.7"
  },
  "orig_nbformat": 4,
  "vscode": {
   "interpreter": {
    "hash": "61b4062b24dfb1010f420dad5aa3bd73a4d2af47d0ec44eafec465a35a9d7239"
   }
  }
 },
 "nbformat": 4,
 "nbformat_minor": 2
}
